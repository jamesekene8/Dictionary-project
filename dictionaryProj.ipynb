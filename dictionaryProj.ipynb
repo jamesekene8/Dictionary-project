{
 "cells": [
  {
   "cell_type": "code",
   "execution_count": 1,
   "metadata": {},
   "outputs": [],
   "source": [
    "import json"
   ]
  },
  {
   "cell_type": "code",
   "execution_count": 2,
   "metadata": {},
   "outputs": [],
   "source": [
    "import enchant \n",
    "d = enchant.Dict(\"en_US\") "
   ]
  },
  {
   "cell_type": "code",
   "execution_count": 3,
   "metadata": {},
   "outputs": [],
   "source": [
    "from PyDictionary import PyDictionary\n",
    "dictionary=PyDictionary()"
   ]
  },
  {
   "cell_type": "code",
   "execution_count": 4,
   "metadata": {},
   "outputs": [],
   "source": [
    "with open('data.json', 'r') as f:\n",
    "    dicFile = json.load(f)"
   ]
  },
  {
   "cell_type": "code",
   "execution_count": 14,
   "metadata": {},
   "outputs": [],
   "source": [
    "def myDic(word):   \n",
    "    if word in list(dicFile.keys()):\n",
    "        for meaning in dicFile[word]:\n",
    "            return meaning\n",
    "    else:\n",
    "        sugg = input(\"That word does not exist. Do you want a sggestion? Y or N?\")\n",
    "        if sugg.lower() == 'y':\n",
    "            suggestions = d.suggest(word)\n",
    "            for x in suggestions:\n",
    "                suggT = input(f'Did you mean: {x}? Y or N?')\n",
    "                if suggT.lower() == 'y':\n",
    "                    try:\n",
    "                        print(dicFile[x])\n",
    "                        break\n",
    "                    except:\n",
    "                        return dictionary.meaning(x)\n",
    "                        break\n",
    "                else:\n",
    "                    continue\n",
    "            \n",
    "            else:\n",
    "                return \"The word does not exist\"\n",
    "        else:\n",
    "            return \"The word you tried to find a meaning for does not exist\"\n",
    "\n",
    "\n"
   ]
  },
  {
   "cell_type": "code",
   "execution_count": 15,
   "metadata": {},
   "outputs": [
    {
     "name": "stdin",
     "output_type": "stream",
     "text": [
      "Give me a word: n\n"
     ]
    }
   ],
   "source": [
    "word = input('Give me a word:')\n",
    "word = word.lower()"
   ]
  },
  {
   "cell_type": "code",
   "execution_count": 16,
   "metadata": {},
   "outputs": [
    {
     "name": "stdin",
     "output_type": "stream",
     "text": [
      "That word does not exist. Do you want a sggestion? Y or N? y\n",
      "Did you mean: N? Y or N? n\n",
      "Did you mean: b? Y or N? n\n",
      "Did you mean: m? Y or N? n\n",
      "Did you mean: ne? Y or N? n\n",
      "Did you mean: en? Y or N? y\n"
     ]
    },
    {
     "name": "stdout",
     "output_type": "stream",
     "text": [
      "['The fourteenth letter of the Roman alphabet.']\n"
     ]
    }
   ],
   "source": [
    "myDic(word)"
   ]
  },
  {
   "cell_type": "code",
   "execution_count": null,
   "metadata": {},
   "outputs": [],
   "source": []
  }
 ],
 "metadata": {
  "kernelspec": {
   "display_name": "Python 3",
   "language": "python",
   "name": "python3"
  },
  "language_info": {
   "codemirror_mode": {
    "name": "ipython",
    "version": 3
   },
   "file_extension": ".py",
   "mimetype": "text/x-python",
   "name": "python",
   "nbconvert_exporter": "python",
   "pygments_lexer": "ipython3",
   "version": "3.7.6"
  }
 },
 "nbformat": 4,
 "nbformat_minor": 4
}
